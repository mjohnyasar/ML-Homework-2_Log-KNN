{
 "cells": [
  {
   "cell_type": "code",
   "execution_count": 3,
   "metadata": {},
   "outputs": [],
   "source": [
    "import nbformat\n",
    "# Reading the notebooks\n",
    "n1 = nbformat.read('ML_6.ipynb', 4)\n",
    "n2 = nbformat.read('ML_7.ipynb', 4)\n",
    "\n",
    "# Creating a new notebook\n",
    "final_notebook = nbformat.v4.new_notebook(metadata=n1.metadata)\n",
    "# Concatenating the notebooks\n",
    "final_notebook.cells = n1.cells + n2.cells \n",
    "# Saving the new notebook\n",
    "nbformat.write(final_notebook, 'Logistic and KNN.ipynb') "
   ]
  }
 ],
 "metadata": {
  "interpreter": {
   "hash": "099ed170e0f2b1b49c518076a9e2ce1eb872469ab808bd67d317c48660423e4d"
  },
  "kernelspec": {
   "display_name": "Python 3.8.8 64-bit ('base': conda)",
   "name": "python3"
  },
  "language_info": {
   "codemirror_mode": {
    "name": "ipython",
    "version": 3
   },
   "file_extension": ".py",
   "mimetype": "text/x-python",
   "name": "python",
   "nbconvert_exporter": "python",
   "pygments_lexer": "ipython3",
   "version": "3.8.8"
  },
  "orig_nbformat": 4
 },
 "nbformat": 4,
 "nbformat_minor": 2
}
